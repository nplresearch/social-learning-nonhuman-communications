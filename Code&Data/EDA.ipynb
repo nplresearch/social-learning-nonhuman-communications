{
 "cells": [
  {
   "cell_type": "code",
   "execution_count": 1,
   "id": "2d0676a4-66f9-4737-8e9f-c7cc5bbe1d55",
   "metadata": {
    "tags": []
   },
   "outputs": [],
   "source": [
    "import pandas as pd\n",
    "import numpy as np"
   ]
  },
  {
   "cell_type": "code",
   "execution_count": 2,
   "id": "8c14b8db-9f3f-4f5c-9422-0b9e47f51d83",
   "metadata": {},
   "outputs": [],
   "source": [
    "path='Data/all_codas.csv'"
   ]
  },
  {
   "cell_type": "code",
   "execution_count": 3,
   "id": "be61391b-ef25-45f6-8c05-c22c10681c63",
   "metadata": {},
   "outputs": [
    {
     "name": "stderr",
     "output_type": "stream",
     "text": [
      "/tmp/ipykernel_155145/2077074637.py:1: DtypeWarning: Columns (46,49) have mixed types. Specify dtype option on import or set low_memory=False.\n",
      "  df = pd.read_csv(path)\n"
     ]
    }
   ],
   "source": [
    "df = pd.read_csv(path)\n",
    "df = df.set_index('codaNUM2018')\n",
    "df = df.drop('Unnamed: 0', axis=1)"
   ]
  },
  {
   "cell_type": "markdown",
   "id": "543e6bbd-50b1-480e-8db2-caeb960afd16",
   "metadata": {},
   "source": [
    "## Overwiev of the dataset"
   ]
  },
  {
   "cell_type": "code",
   "execution_count": 5,
   "id": "5e473798-a57e-4486-8656-801ff3576986",
   "metadata": {},
   "outputs": [
    {
     "name": "stdout",
     "output_type": "stream",
     "text": [
      "The dataset consists of 8878 audio files \n",
      "\n",
      "Each file is described by 97 columns of metadata \n",
      " \n",
      "\n"
     ]
    },
    {
     "data": {
      "text/html": [
       "<div>\n",
       "<style scoped>\n",
       "    .dataframe tbody tr th:only-of-type {\n",
       "        vertical-align: middle;\n",
       "    }\n",
       "\n",
       "    .dataframe tbody tr th {\n",
       "        vertical-align: top;\n",
       "    }\n",
       "\n",
       "    .dataframe thead th {\n",
       "        text-align: right;\n",
       "    }\n",
       "</style>\n",
       "<table border=\"1\" class=\"dataframe\">\n",
       "  <thead>\n",
       "    <tr style=\"text-align: right;\">\n",
       "      <th></th>\n",
       "      <th>REC</th>\n",
       "      <th>nClicks</th>\n",
       "      <th>Duration</th>\n",
       "      <th>ICI1</th>\n",
       "      <th>ICI2</th>\n",
       "      <th>ICI3</th>\n",
       "      <th>ICI4</th>\n",
       "      <th>ICI5</th>\n",
       "      <th>ICI6</th>\n",
       "      <th>ICI7</th>\n",
       "      <th>...</th>\n",
       "      <th>IPI31</th>\n",
       "      <th>IPI32</th>\n",
       "      <th>IPI33</th>\n",
       "      <th>IPI34</th>\n",
       "      <th>IPI35</th>\n",
       "      <th>IPI36</th>\n",
       "      <th>IPI37</th>\n",
       "      <th>IPI38</th>\n",
       "      <th>IPI39</th>\n",
       "      <th>IPI40</th>\n",
       "    </tr>\n",
       "    <tr>\n",
       "      <th>codaNUM2018</th>\n",
       "      <th></th>\n",
       "      <th></th>\n",
       "      <th></th>\n",
       "      <th></th>\n",
       "      <th></th>\n",
       "      <th></th>\n",
       "      <th></th>\n",
       "      <th></th>\n",
       "      <th></th>\n",
       "      <th></th>\n",
       "      <th></th>\n",
       "      <th></th>\n",
       "      <th></th>\n",
       "      <th></th>\n",
       "      <th></th>\n",
       "      <th></th>\n",
       "      <th></th>\n",
       "      <th></th>\n",
       "      <th></th>\n",
       "      <th></th>\n",
       "      <th></th>\n",
       "    </tr>\n",
       "  </thead>\n",
       "  <tbody>\n",
       "    <tr>\n",
       "      <th>1</th>\n",
       "      <td>2005-03040406_processed441stereo-ATW-SNOW-FRUI...</td>\n",
       "      <td>5</td>\n",
       "      <td>1.188</td>\n",
       "      <td>0.293</td>\n",
       "      <td>0.282</td>\n",
       "      <td>0.298</td>\n",
       "      <td>0.315</td>\n",
       "      <td>0.0</td>\n",
       "      <td>0.0</td>\n",
       "      <td>0.0</td>\n",
       "      <td>...</td>\n",
       "      <td>NaN</td>\n",
       "      <td>NaN</td>\n",
       "      <td>NaN</td>\n",
       "      <td>NaN</td>\n",
       "      <td>NaN</td>\n",
       "      <td>NaN</td>\n",
       "      <td>NaN</td>\n",
       "      <td>NaN</td>\n",
       "      <td>NaN</td>\n",
       "      <td>NaN</td>\n",
       "    </tr>\n",
       "    <tr>\n",
       "      <th>2</th>\n",
       "      <td>2005-03040406_processed441stereo-ATW-SNOW-FRUI...</td>\n",
       "      <td>5</td>\n",
       "      <td>1.125</td>\n",
       "      <td>0.287</td>\n",
       "      <td>0.265</td>\n",
       "      <td>0.299</td>\n",
       "      <td>0.274</td>\n",
       "      <td>0.0</td>\n",
       "      <td>0.0</td>\n",
       "      <td>0.0</td>\n",
       "      <td>...</td>\n",
       "      <td>NaN</td>\n",
       "      <td>NaN</td>\n",
       "      <td>NaN</td>\n",
       "      <td>NaN</td>\n",
       "      <td>NaN</td>\n",
       "      <td>NaN</td>\n",
       "      <td>NaN</td>\n",
       "      <td>NaN</td>\n",
       "      <td>NaN</td>\n",
       "      <td>NaN</td>\n",
       "    </tr>\n",
       "    <tr>\n",
       "      <th>3</th>\n",
       "      <td>2005-03040406_processed441stereo-ATW-SNOW-FRUI...</td>\n",
       "      <td>5</td>\n",
       "      <td>1.090</td>\n",
       "      <td>0.264</td>\n",
       "      <td>0.253</td>\n",
       "      <td>0.297</td>\n",
       "      <td>0.276</td>\n",
       "      <td>0.0</td>\n",
       "      <td>0.0</td>\n",
       "      <td>0.0</td>\n",
       "      <td>...</td>\n",
       "      <td>NaN</td>\n",
       "      <td>NaN</td>\n",
       "      <td>NaN</td>\n",
       "      <td>NaN</td>\n",
       "      <td>NaN</td>\n",
       "      <td>NaN</td>\n",
       "      <td>NaN</td>\n",
       "      <td>NaN</td>\n",
       "      <td>NaN</td>\n",
       "      <td>NaN</td>\n",
       "    </tr>\n",
       "    <tr>\n",
       "      <th>4</th>\n",
       "      <td>2005-03040406_processed441stereo-ATW-SNOW-FRUI...</td>\n",
       "      <td>5</td>\n",
       "      <td>1.090</td>\n",
       "      <td>0.269</td>\n",
       "      <td>0.265</td>\n",
       "      <td>0.271</td>\n",
       "      <td>0.285</td>\n",
       "      <td>0.0</td>\n",
       "      <td>0.0</td>\n",
       "      <td>0.0</td>\n",
       "      <td>...</td>\n",
       "      <td>NaN</td>\n",
       "      <td>NaN</td>\n",
       "      <td>NaN</td>\n",
       "      <td>NaN</td>\n",
       "      <td>NaN</td>\n",
       "      <td>NaN</td>\n",
       "      <td>NaN</td>\n",
       "      <td>NaN</td>\n",
       "      <td>NaN</td>\n",
       "      <td>NaN</td>\n",
       "    </tr>\n",
       "    <tr>\n",
       "      <th>5</th>\n",
       "      <td>2005-03040406_processed441stereo-ATW-SNOW-FRUI...</td>\n",
       "      <td>5</td>\n",
       "      <td>1.101</td>\n",
       "      <td>0.273</td>\n",
       "      <td>0.267</td>\n",
       "      <td>0.266</td>\n",
       "      <td>0.295</td>\n",
       "      <td>0.0</td>\n",
       "      <td>0.0</td>\n",
       "      <td>0.0</td>\n",
       "      <td>...</td>\n",
       "      <td>NaN</td>\n",
       "      <td>NaN</td>\n",
       "      <td>NaN</td>\n",
       "      <td>NaN</td>\n",
       "      <td>NaN</td>\n",
       "      <td>NaN</td>\n",
       "      <td>NaN</td>\n",
       "      <td>NaN</td>\n",
       "      <td>NaN</td>\n",
       "      <td>NaN</td>\n",
       "    </tr>\n",
       "  </tbody>\n",
       "</table>\n",
       "<p>5 rows × 97 columns</p>\n",
       "</div>"
      ],
      "text/plain": [
       "                                                           REC  nClicks  \\\n",
       "codaNUM2018                                                               \n",
       "1            2005-03040406_processed441stereo-ATW-SNOW-FRUI...        5   \n",
       "2            2005-03040406_processed441stereo-ATW-SNOW-FRUI...        5   \n",
       "3            2005-03040406_processed441stereo-ATW-SNOW-FRUI...        5   \n",
       "4            2005-03040406_processed441stereo-ATW-SNOW-FRUI...        5   \n",
       "5            2005-03040406_processed441stereo-ATW-SNOW-FRUI...        5   \n",
       "\n",
       "             Duration   ICI1   ICI2   ICI3   ICI4  ICI5  ICI6  ICI7  ...  \\\n",
       "codaNUM2018                                                          ...   \n",
       "1               1.188  0.293  0.282  0.298  0.315   0.0   0.0   0.0  ...   \n",
       "2               1.125  0.287  0.265  0.299  0.274   0.0   0.0   0.0  ...   \n",
       "3               1.090  0.264  0.253  0.297  0.276   0.0   0.0   0.0  ...   \n",
       "4               1.090  0.269  0.265  0.271  0.285   0.0   0.0   0.0  ...   \n",
       "5               1.101  0.273  0.267  0.266  0.295   0.0   0.0   0.0  ...   \n",
       "\n",
       "             IPI31  IPI32  IPI33  IPI34  IPI35  IPI36  IPI37  IPI38  IPI39  \\\n",
       "codaNUM2018                                                                  \n",
       "1              NaN    NaN    NaN    NaN    NaN    NaN    NaN    NaN    NaN   \n",
       "2              NaN    NaN    NaN    NaN    NaN    NaN    NaN    NaN    NaN   \n",
       "3              NaN    NaN    NaN    NaN    NaN    NaN    NaN    NaN    NaN   \n",
       "4              NaN    NaN    NaN    NaN    NaN    NaN    NaN    NaN    NaN   \n",
       "5              NaN    NaN    NaN    NaN    NaN    NaN    NaN    NaN    NaN   \n",
       "\n",
       "             IPI40  \n",
       "codaNUM2018         \n",
       "1              NaN  \n",
       "2              NaN  \n",
       "3              NaN  \n",
       "4              NaN  \n",
       "5              NaN  \n",
       "\n",
       "[5 rows x 97 columns]"
      ]
     },
     "execution_count": 5,
     "metadata": {},
     "output_type": "execute_result"
    }
   ],
   "source": [
    "print('The dataset consists of ' + str(df.shape[0]) + ' audio files \\n')\n",
    "print('Each file is described by ' + str(df.shape[1]) + ' columns of metadata \\n \\n')\n",
    "df.head()"
   ]
  },
  {
   "cell_type": "markdown",
   "id": "1addd2b9-626c-441a-a259-5da7a1d0f4e3",
   "metadata": {},
   "source": [
    "### REC column\n",
    "The name of the audio file.\n",
    "\n",
    "The data come from different datasets.\n",
    "The first 4930 rows contain data recorded previosly to 2010 and the name is in the format \"2010-DOM20100228_0004-ROUNDER-ATW-SLBC-LADYO-LOCALF\".\n",
    "Those data contain very few metadata and it seems they were not tagging the specific whale that was producing sound but the generic group of whales they were recording.\n",
    "\n",
    "Data from row 4931 contains more metadata and the file are named in this format: swDDDa001_nnnn\n",
    "\n",
    "sw = sperm whale\n",
    "\n",
    "DDD = Julian day of the year (==number of days from January 1) of the recording\n",
    "\n",
    "a,b,c,d.. = the tag order on the day\n",
    "\n",
    "nnnn=the Dtag breaks up the audio files into WAV files of limited size so 001 if the first file from tag on time, 002 is the next."
   ]
  },
  {
   "cell_type": "code",
   "execution_count": 5,
   "id": "7a59b81f-6ba1-4748-8f7c-7fa4dfbb2d19",
   "metadata": {},
   "outputs": [
    {
     "data": {
      "text/plain": [
       "array(['2005-03040406_processed441stereo-ATW-SNOW-FRUIT-SOUR',\n",
       "       '2008-Dom20080325_131726-HANDMAID-ATW', '2009-FEB5-000-FRUIT-SOUR',\n",
       "       '2010-DOM_20100120_153413-ROUNDER-LOCALF-SLBC',\n",
       "       '2010-DOM_20100120_162149-ATW-SLBC-ROUNDER',\n",
       "       '2010-DOM_20100120_163504-ATW-SLBC-ROUNDER',\n",
       "       '2010-DOM_20100120_175002-FRUIT-SOUR',\n",
       "       '2010-DOM_20100120_175150-FRUIT-SOUR',\n",
       "       '2010-DOM20100225_0001-FRUIT-CRAKE-SOURSOP',\n",
       "       '2010-DOM20100228_0004-ROUNDER-ATW-SLBC-LADYO-LOCALF'],\n",
       "      dtype=object)"
      ]
     },
     "execution_count": 5,
     "metadata": {},
     "output_type": "execute_result"
    }
   ],
   "source": [
    "df.REC.unique()[:10]"
   ]
  },
  {
   "cell_type": "code",
   "execution_count": 6,
   "id": "f0d64871-5670-4780-ad1d-c52bea9c29c6",
   "metadata": {},
   "outputs": [
    {
     "data": {
      "text/plain": [
       "array(['sw133b002_8905', 'sw133b002_9421', 'sw133b002_9467',\n",
       "       'sw133b002_9531', 'sw133b003_16255', 'sw134a001_10',\n",
       "       'sw134a001_319', 'sw134a001_372', 'sw134a001_407', 'sw134a001_458'],\n",
       "      dtype=object)"
      ]
     },
     "execution_count": 6,
     "metadata": {},
     "output_type": "execute_result"
    }
   ],
   "source": [
    "df.REC.unique()[-10:]"
   ]
  },
  {
   "cell_type": "code",
   "execution_count": 7,
   "id": "9cd86802-dc6c-46a4-a43f-e8acfe3c96d7",
   "metadata": {},
   "outputs": [
    {
     "name": "stdout",
     "output_type": "stream",
     "text": [
      "The total number of recording sessions is 437\n"
     ]
    }
   ],
   "source": [
    "print('The total number of recording sessions is '+str(len(df.REC.unique())))"
   ]
  },
  {
   "cell_type": "markdown",
   "id": "f4326f01-7ca4-490a-b475-b1023916cab0",
   "metadata": {},
   "source": [
    "## Columns description\n",
    "\n",
    "- nClicks = number of clicks in the file\n",
    "- Duration = total duration of the file (seconds)"
   ]
  },
  {
   "cell_type": "markdown",
   "id": "63e200ea-11af-41df-86ec-f647774c17bb",
   "metadata": {},
   "source": [
    "## Duration"
   ]
  },
  {
   "cell_type": "code",
   "execution_count": 15,
   "id": "e5816f05-3a07-437c-ae30-f80ad4772bf2",
   "metadata": {},
   "outputs": [
    {
     "data": {
      "image/png": "[encoded data removed]",
      "text/plain": [
       "<Figure size 432x288 with 1 Axes>"
      ]
     },
     "metadata": {
      "needs_background": "light"
     },
     "output_type": "display_data"
    }
   ],
   "source": [
    "duration = df.Duration\n",
    "ax = duration.hist(bins=30)\n",
    "ax.set_title('Duration')\n",
    "ax.set_xlabel('time (s)')\n",
    "ax.set_ylabel('frequency');"
   ]
  },
  {
   "cell_type": "markdown",
   "id": "035db2ec-5490-4d03-a268-cd69f0b20f17",
   "metadata": {},
   "source": [
    "- ICIx = inter click interval between click x and click x+1\n",
    "- ELKI2 and ELKI2name some index and name of the coda types, the convetion used is not clear, only present for the old data (first half of the dataset)"
   ]
  },
  {
   "cell_type": "code",
   "execution_count": 16,
   "id": "8c21e256-4b82-437d-a9c6-07dce42b872d",
   "metadata": {},
   "outputs": [
    {
     "data": {
      "text/plain": [
       "array(['A', 'D', 'F', 'J', 'N', 'R', 'T', 'U', 'V', 'P', 'K', 'S', 'ZZZ'],\n",
       "      dtype=object)"
      ]
     },
     "execution_count": 16,
     "metadata": {},
     "output_type": "execute_result"
    }
   ],
   "source": [
    "df.Unit.unique()"
   ]
  },
  {
   "cell_type": "code",
   "execution_count": 17,
   "id": "0e348a05-c2a9-433e-990c-e044c8ba8fd9",
   "metadata": {},
   "outputs": [
    {
     "data": {
      "text/plain": [
       "array([ 1,  2,  3,  4,  6,  8, 10, 11, 12,  7,  5,  9, 13])"
      ]
     },
     "execution_count": 17,
     "metadata": {},
     "output_type": "execute_result"
    }
   ],
   "source": [
    "df.UnitNum.unique()"
   ]
  },
  {
   "cell_type": "markdown",
   "id": "8bcba860-a37f-49f9-896e-3edb4b1f2dba",
   "metadata": {},
   "source": [
    "- Unit and UnitNum = they seem to indicate the group of whales (according to which definition of group?), in fact same units contain recording of the same individual whales.\n",
    "- IDN = not clear, it seems related to the name of the whale, but this column contains a lot of 0 value"
   ]
  },
  {
   "cell_type": "code",
   "execution_count": 24,
   "id": "f36e632c-9b37-4912-999f-e94358693689",
   "metadata": {},
   "outputs": [
    {
     "data": {
      "text/plain": [
       "0       5391\n",
       "0        419\n",
       "5586     407\n",
       "5151     346\n",
       "5722     300\n",
       "5560     286\n",
       "5727     216\n",
       "5979     157\n",
       "5561     136\n",
       "5978     136\n",
       "Name: IDN, dtype: int64"
      ]
     },
     "execution_count": 24,
     "metadata": {},
     "output_type": "execute_result"
    }
   ],
   "source": [
    "df.IDN.value_counts()[:10]"
   ]
  },
  {
   "cell_type": "markdown",
   "id": "1342c303-a841-4734-81e5-202627b3d235",
   "metadata": {},
   "source": [
    "- Date = date of the recording\n",
    "- TagOnTime = Time of placement of tag"
   ]
  },
  {
   "cell_type": "markdown",
   "id": "f47cc76b-bc7c-4b9d-970c-4c169ab90799",
   "metadata": {},
   "source": [
    "- Name = Name of the 'speaking' whale\n",
    "- Bout = Index of the 'dialogue'? Is is a progressive number for the same whale and the same recording session.\n",
    "- Whale = ?? It's an integer, but there is no one-to-one correspondence with the whale name\n",
    "- Coda = Consecutive number of the coda in the series (bouts??)"
   ]
  },
  {
   "cell_type": "markdown",
   "id": "7fc188e8-f841-4868-b40a-e86fe9e482f5",
   "metadata": {},
   "source": [
    "- TsTo =  Time Since Tag On. This is a count of seconds from when the tag activated in salt water. It is continuous across serial wav files (explanation from automated anno.docx)\n",
    "- Tag = tag identifier\n",
    "- Focal = 1 if coda is spoken by tagged whale. 0 otherwise\n",
    "- IPIx = Inter pulse interval (ms)"
   ]
  },
  {
   "cell_type": "markdown",
   "id": "ec1ab069-c309-4ac0-be8d-71c2f1bee4b4",
   "metadata": {},
   "source": [
    "## Questions\n",
    "\n",
    "1. Each row is a coda? (big variation in number of clicks)\n",
    "2. How did you extracted clicks\n",
    "3. What is TagOnTime\n",
    "4. what is bout, series\n",
    "5. What is a tag?"
   ]
  }
 ],
 "metadata": {
  "kernelspec": {
   "display_name": "Python 3 (ipykernel)",
   "language": "python",
   "name": "python3"
  },
  "language_info": {
   "codemirror_mode": {
    "name": "ipython",
    "version": 3
   },
   "file_extension": ".py",
   "mimetype": "text/x-python",
   "name": "python",
   "nbconvert_exporter": "python",
   "pygments_lexer": "ipython3",
   "version": "3.10.4"
  }
 },
 "nbformat": 4,
 "nbformat_minor": 5
}
