{
 "cells": [
  {
   "cell_type": "code",
   "execution_count": 186,
   "metadata": {},
   "outputs": [],
   "source": [
    "import pandas as pd\n",
    "import numpy as np\n",
    "import networkx as nx\n",
    "import matplotlib.pyplot as plt\n",
    "from scipy.stats import chi2, entropy\n",
    "from collections import Counter\n",
    "from typing import NamedTuple, Optional\n",
    "from scipy.sparse.csgraph import minimum_spanning_tree\n",
    "from scipy.spatial.distance import squareform\n",
    "from scipy.stats import linregress,spearmanr,ttest_ind\n",
    "import warnings\n",
    "import seaborn as sb\n",
    "from matplotlib.patches import Rectangle\n",
    "from labellines import labelLine, labelLines\n",
    "\n",
    "from utils import rolling_window, flatten\n",
    "\n",
    "import vlmc\n",
    "\n",
    "sb.set_theme(style=\"ticks\", context=\"paper\")"
   ]
  },
  {
   "cell_type": "code",
   "execution_count": 187,
   "metadata": {},
   "outputs": [
    {
     "name": "stderr",
     "output_type": "stream",
     "text": [
      "/home/leitao/anaconda3/lib/python3.8/site-packages/IPython/core/interactiveshell.py:3146: DtypeWarning: Columns (7,8) have mixed types.Specify dtype option on import or set low_memory=False.\n",
      "  has_raised = await self.run_ast_nodes(code_ast.body, cell_name,\n"
     ]
    }
   ],
   "source": [
    "class Rep(NamedTuple):\n",
    "    tree: vlmc.VLMC\n",
    "    clan: str\n",
    "    unit: str\n",
    "\n",
    "dominica_data = pd.read_csv(\"Data/dominica_coda_data.csv\")\n",
    "# pacific_data = pd.read_excel('Data/ETP.xlsx')\n",
    "\n",
    "paper_data = pd.read_csv(\"Data/pacific_coda_data.csv\")\n",
    "paper_data = paper_data[~paper_data[\"clan_name\"].isna()]\n",
    "paper_data[\"year\"] = paper_data.date.str[:4]"
   ]
  },
  {
   "cell_type": "code",
   "execution_count": 188,
   "metadata": {},
   "outputs": [],
   "source": [
    "def fitVlmc(df, click_col, horizon=1, resolution=0.02, K=None):\n",
    "    ICIs = df.filter(regex=(\"^ICI\")).values\n",
    "    nClicks = df[click_col].values\n",
    "    codas = [coda[: stop - 1] for coda, stop in zip(ICIs, nClicks)]\n",
    "    discrete_codas, n_bins = vlmc.bin_codas(\n",
    "        codas, horizon=horizon, resolution=resolution\n",
    "    )\n",
    "    with warnings.catch_warnings():\n",
    "        warnings.simplefilter(\"ignore\")\n",
    "        tree = vlmc.VLMC(n_bins + 1).fit(discrete_codas, K=K)\n",
    "    return tree, discrete_codas\n",
    "\n",
    "\n",
    "def get_D(TREES):\n",
    "    \"\"\"\n",
    "    Given a set of subcoda trees, compute a distace matrix\n",
    "    \"\"\"\n",
    "    D = np.zeros(shape=(len(TREES), len(TREES)))\n",
    "    for i in range(len(TREES)):\n",
    "        for j in range(len(TREES)):\n",
    "            if i == j:\n",
    "                distance = 0\n",
    "            else:\n",
    "                distance = vlmc.distance(TREES[i], TREES[j])\n",
    "            D[i, j] = distance\n",
    "    return D\n",
    "\n",
    "\n",
    "def getV(C, colors, method=\"average\"):\n",
    "    \"\"\"\n",
    "    compute agglomerative clustering and return most\n",
    "    aesthetic ordering of leaves.\n",
    "    \"\"\"\n",
    "    s = sb.clustermap(\n",
    "        C,  # np.maximum(quack.C,quack.C.T)\n",
    "        row_colors=colors,\n",
    "        method=method,\n",
    "        row_cluster=True,\n",
    "        col_cluster=False,\n",
    "    )\n",
    "    s.ax_heatmap.remove()\n",
    "    s.cax.remove()\n",
    "    V = s.dendrogram_row.linkage\n",
    "    row_indexes = s.dendrogram_row.reordered_ind\n",
    "    plt.close()\n",
    "    return V, row_indexes\n",
    "\n",
    "def merge_repertoires(clan_name, threshold=300):\n",
    "    \"\"\"\n",
    "    merge pacific repertoires that have less than 300 codas.\n",
    "    \"\"\"\n",
    "    # Load your dataframe into a variable, let's call it df\n",
    "    df = paper_data[paper_data[\"clan_name\"] == clan_name].copy().reset_index(drop=True)\n",
    "    df[\"latitude\"] = pd.to_numeric(df[\"latitude\"])\n",
    "    df[\"repertoire_name\"] = df[\"grpvar\"]\n",
    "\n",
    "    # main loop\n",
    "    while True:\n",
    "        # Count the frequency of each category in the grpvar column\n",
    "        value_counts = df[\"repertoire_name\"].value_counts()\n",
    "\n",
    "        # Filter the resulting Series based on the threshold\n",
    "        small_repertoires = value_counts[value_counts < threshold].index.tolist()\n",
    "        if len(small_repertoires) < 2:\n",
    "            break\n",
    "\n",
    "        N = len(small_repertoires)\n",
    "        min_distance = np.inf\n",
    "        for i in range(N):\n",
    "            lat_x = df[df[\"repertoire_name\"] == small_repertoires[i]].latitude.unique()\n",
    "            for j in range(i + 1, N):\n",
    "                lat_y = df[\n",
    "                    df[\"repertoire_name\"] == small_repertoires[j]\n",
    "                ].latitude.unique()\n",
    "                distance = np.min(np.abs(lat_x - lat_y[:, None]))\n",
    "                if distance >= min_distance:\n",
    "                    continue\n",
    "                min_distance = distance\n",
    "                to_merge = [small_repertoires[i], small_repertoires[j]]\n",
    "\n",
    "        # Define the values to replace and their replacement\n",
    "        replacement = f\"{to_merge[0]}_{to_merge[1]}\"\n",
    "        # Use replace to replace values in the grpvar column\n",
    "        df[\"repertoire_name\"] = df[\"repertoire_name\"].replace(to_merge, replacement)\n",
    "    return df"
   ]
  },
  {
   "cell_type": "code",
   "execution_count": 189,
   "metadata": {},
   "outputs": [],
   "source": [
    "identity_codas = {\n",
    "    \"PALI\": [48, 411, 412, 73, 711, 82, 94, 95, 102],\n",
    "    \"FP\": [611, 614],\n",
    "    \"SI\": [39, 413, 69],\n",
    "    \"RI\": [45, 715],\n",
    "    \"SH\": [313],\n",
    "    \"PO\": [515, 68, 613, 79, 712, 89],\n",
    "    \"REG\": [51, 512, 62, 71, 74, 81, 92, 96, 108],\n",
    "}\n",
    "\n",
    "clan_color = {\n",
    "    \"PALI\":\"#FF7F00\",\n",
    "    \"FP\":\"#CD96CD\",#EE4FCB\n",
    "    \"SI\":\"#5D478B\",\n",
    "    \"RI\":\"#CDAD00\",\n",
    "    \"SH\":\"#B22222\",\n",
    "    \"PO\":\"#436EEE\",\n",
    "    \"REG\":\"#9ACD32\",\n",
    "    \"EC1\":\"#436EEE\",\n",
    "    \"EC2\":\"#9ACD32\"\n",
    "}"
   ]
  },
  {
   "cell_type": "markdown",
   "metadata": {},
   "source": [
    "# Time resolution"
   ]
  },
  {
   "cell_type": "code",
   "execution_count": null,
   "metadata": {},
   "outputs": [],
   "source": [
    "def getClanTrees(clans,idcodas=True,resolution=0.02):\n",
    "    \"\"\"\n",
    "    Get the subcoda tree for each pacific clan\n",
    "    \"\"\"\n",
    "    coda_condition = paper_data['coda_type'].isin(flatten(identity_codas.values()))\n",
    "    if not idcodas:\n",
    "        coda_condition = ~coda_condition\n",
    "    trees= []\n",
    "    for clan in clans:\n",
    "        clan_condition = paper_data['clan_name']==clan\n",
    "        condition = coda_condition & clan_condition\n",
    "        tree,_ = fitVlmc(paper_data[condition],click_col='nclicks',resolution=resolution)\n",
    "        trees.append(tree)\n",
    "    return trees\n",
    "\n",
    "def overlapData(idcodas, resolution=0.02):\n",
    "    \"\"\"\n",
    "    Calculating clan distance, making sure it has the same indexes\n",
    "    as clan ovelap\n",
    "    \"\"\"\n",
    "    overlap = pd.read_csv(\"Data/pacific_clan_overlap.csv\")\n",
    "    clanTrees = getClanTrees(overlap.columns,idcodas=idcodas,resolution=resolution)\n",
    "    N = len(clanTrees)\n",
    "    D = np.empty(shape=(N,N))\n",
    "    for i in range(N):\n",
    "        for j in range(N):\n",
    "            D[i,j]=vlmc.distance(clanTrees[i],clanTrees[j])\n",
    "    notDiag=~np.eye(N,dtype=bool)\n",
    "    return overlap.values, D, notDiag #overlap.values[notDiag],D[notDiag]\n",
    "\n",
    "\n",
    "def plot_overlap(xx,yy,ax=None, ms=None):\n",
    "    \"\"\"\n",
    "    Auxiliary function for plotting overlap\n",
    "    \"\"\"\n",
    "    for i,j in np.ndindex(len(xx),len(xx)):\n",
    "        if i==j:\n",
    "            continue\n",
    "        marker_style = dict(color=clan_color[overlap.columns[i]], linestyle=':', marker='o',\n",
    "                        markersize=ms, markerfacecoloralt=clan_color[overlap.columns[j]],\n",
    "                           markeredgewidth=0)\n",
    "        ax.plot(xx[i,j],yy[i,j],fillstyle=\"left\", **marker_style)\n",
    "\n",
    "\n",
    "overlap = pd.read_csv(\"Data/pacific_clan_overlap.csv\")\n",
    "xx, yid, mask = overlapData(idcodas=True)\n",
    "xx, yNid, mask = overlapData(idcodas=False)"
   ]
  },
  {
   "cell_type": "code",
   "execution_count": 211,
   "metadata": {},
   "outputs": [],
   "source": [
    "dts = np.linspace(0.01,0.1,19)"
   ]
  },
  {
   "cell_type": "code",
   "execution_count": 212,
   "metadata": {},
   "outputs": [],
   "source": [
    "data = []\n",
    "for dt in dts:\n",
    "    row = {}\n",
    "    row['dt'] = dt\n",
    "    xx, yid, mask = overlapData(idcodas=True,resolution= dt)\n",
    "    slope, intercept, r, p, se = linregress(xx[mask], yid[mask])\n",
    "    row['id_slope'] = slope\n",
    "    row['id_p'] = p\n",
    "    xx, yNid, mask = overlapData(idcodas=False, resolution=dt)\n",
    "    slope, intercept, r, p, se = linregress(xx[mask], yNid[mask])\n",
    "    row['Nid_slope'] = slope\n",
    "    row['Nid_p'] = p\n",
    "    data.append(row)"
   ]
  },
  {
   "cell_type": "code",
   "execution_count": 213,
   "metadata": {},
   "outputs": [],
   "source": [
    "data = pd.DataFrame(data)"
   ]
  },
  {
   "cell_type": "code",
   "execution_count": null,
   "metadata": {},
   "outputs": [],
   "source": [
    "mosaic =\"\"\"\n",
    "AAA\n",
    "AAA\n",
    "BCD\n",
    "\"\"\"\n",
    "\n",
    "fig, axs= plt.subplots_mosaic(mosaic=mosaic,figsize=(4, 1.7))\n",
    "\n",
    "\n",
    "\n",
    "axs.plot(dts,data['id_p'].values, label=\"ID\")\n",
    "axs.plot(dts,data['Nid_p'].values,label=\"Non-ID\")\n",
    "axs.hlines(0.05,0.01,0.1,linestyle='--',color='k')\n",
    "axs.spines[['right', 'top']].set_visible(False)\n",
    "axs.set_ylabel('P-Value')\n",
    "axs.set_xlabel('Temporal Resolution $\\delta t$')\n",
    "axs.legend(bbox_to_anchor=(0.8, 0.6),\n",
    "        title=\"Codas\",\n",
    "        frameon=False,)\n",
    "plt.savefig(\"Figures/supplementary_time_res_significance.pdf\", dpi=250, bbox_inches=\"tight\")"
   ]
  },
  {
   "cell_type": "code",
   "execution_count": 350,
   "metadata": {},
   "outputs": [
    {
     "data": {
      "image/png": "[encoded data removed]",
      "text/plain": [
       "<Figure size 432x288 with 5 Axes>"
      ]
     },
     "metadata": {},
     "output_type": "display_data"
    }
   ],
   "source": [
    "mosaic =\"\"\"\n",
    "AAAAAA\n",
    "AAAAAA\n",
    "AAAAAA\n",
    "AAAAAA\n",
    "CCCCCC\n",
    "BBEEDD\n",
    "\"\"\"\n",
    "\n",
    "fig, axs= plt.subplot_mosaic(mosaic=mosaic,figsize=(6, 4))\n",
    "\n",
    "\n",
    "axs['B'].bar(np.arange(len(counts0)-2),counts0[:-2],width=1,zorder=-1)\n",
    "axs['B'].axis(\"off\")\n",
    "axs['D'].bar(np.arange(len(counts1)-2),counts1[:-2],width=1,zorder=-1)\n",
    "axs['D'].axis(\"off\")\n",
    "axs['C'].axis(\"off\")\n",
    "axs['E'].axis(\"off\")\n",
    "axs['A'].plot(dts,data['id_p'].values, label=\"ID\")\n",
    "axs['A'].plot(dts,data['Nid_p'].values,label=\"Non-ID\")\n",
    "axs['A'].hlines(0.05,0.01,0.1,linestyle='--',color='k')\n",
    "axs['A'].spines[['right', 'top']].set_visible(False)\n",
    "axs['A'].set_ylabel('P-Value')\n",
    "axs['A'].set_xlabel('Temporal Resolution $\\delta t$')\n",
    "axs['A'].legend(bbox_to_anchor=(0.8, 0.6),\n",
    "        title=\"Codas\",\n",
    "        frameon=False,)\n",
    "plt.savefig(\"Figures/supplementary_time_res_significance.pdf\", dpi=250, bbox_inches=\"tight\")"
   ]
  },
  {
   "cell_type": "code",
   "execution_count": 327,
   "metadata": {},
   "outputs": [],
   "source": [
    "resolution=0.02\n",
    "ICIs = paper_data.filter(regex=(\"^ICI\")).values\n",
    "nClicks = paper_data['nclicks'].values\n",
    "codas = [coda[: stop - 1] for coda, stop in zip(ICIs, nClicks)]\n",
    "discrete_codas, n_bins = vlmc.bin_codas(\n",
    "    codas, horizon=1, resolution=resolution\n",
    ")\n",
    "inds, counts0 = np.unique(np.concatenate(discrete_codas),return_counts=True)\n",
    "\n",
    "resolution=0.1\n",
    "ICIs = paper_data.filter(regex=(\"^ICI\")).values\n",
    "nClicks = paper_data['nclicks'].values\n",
    "codas = [coda[: stop - 1] for coda, stop in zip(ICIs, nClicks)]\n",
    "discrete_codas, n_bins = vlmc.bin_codas(\n",
    "    codas, horizon=1, resolution=resolution\n",
    ")\n",
    "inds, counts1 = np.unique(np.concatenate(discrete_codas),return_counts=True)"
   ]
  },
  {
   "cell_type": "code",
   "execution_count": 328,
   "metadata": {},
   "outputs": [
    {
     "data": {
      "text/plain": [
       "(-2.95, 50.95, 0.0, 12650.4)"
      ]
     },
     "execution_count": 328,
     "metadata": {},
     "output_type": "execute_result"
    },
    {
     "data": {
      "image/png": "[encoded data removed]",
      "text/plain": [
       "<Figure size 288x122.4 with 1 Axes>"
      ]
     },
     "metadata": {},
     "output_type": "display_data"
    }
   ],
   "source": [
    "fig, axs= plt.subplots(figsize=(4, 1.7))\n",
    "plt.bar(np.arange(len(counts0)-2),counts0[:-2],width=1)\n",
    "axs.axis(\"off\")"
   ]
  },
  {
   "cell_type": "code",
   "execution_count": 260,
   "metadata": {},
   "outputs": [],
   "source": [
    "bins = np.arange(0, 1 + resolution, resolution)"
   ]
  },
  {
   "cell_type": "code",
   "execution_count": 274,
   "metadata": {},
   "outputs": [
    {
     "data": {
      "text/plain": [
       "array([  206,  2698,  4070,  4187,  4964,  6456,  6460, 10805, 12048,\n",
       "       11397, 10274,  6261,  6065,  5431,  3698,  2159,  1612,  1273,\n",
       "         855,  1081,  1179,   706,   761,   435,   234,   180,   185,\n",
       "         258,   301,   284,   226,   152,   126,    99,    50,    24,\n",
       "          39,    36,    19,    36,    26,    22,    11,    13,     4,\n",
       "           2,     2,     1,     1, 23556,    27])"
      ]
     },
     "execution_count": 274,
     "metadata": {},
     "output_type": "execute_result"
    }
   ],
   "source": []
  },
  {
   "cell_type": "code",
   "execution_count": 218,
   "metadata": {},
   "outputs": [
    {
     "data": {
      "image/png": "[encoded data removed]",
      "text/plain": [
       "<Figure size 360x122.4 with 1 Axes>"
      ]
     },
     "metadata": {},
     "output_type": "display_data"
    }
   ],
   "source": [
    "fig, axs= plt.subplots(figsize=(5, 1.7))\n",
    "axs.plot(dts,data['Nid_slope'].values)\n",
    "plt.plot(dts,data['id_slope'].values)\n",
    "axs.hlines(0,0.01,0.1,linestyle='--',color='k')\n",
    "axs.spines[['right', 'top']].set_visible(False)"
   ]
  },
  {
   "cell_type": "markdown",
   "metadata": {},
   "source": [
    "# Gaussian mixture"
   ]
  },
  {
   "cell_type": "code",
   "execution_count": 97,
   "metadata": {},
   "outputs": [],
   "source": [
    "from sklearn.mixture import GaussianMixture\n",
    "def gaussianFitVlmc(df, click_col,n_bins,K=None):\n",
    "    ICIs = df.filter(regex=(\"^ICI\")).values\n",
    "    nClicks = df[click_col].values\n",
    "    codas = [coda[: stop - 1] for coda, stop in zip(ICIs, nClicks)]\n",
    "    gm = GaussianMixture(n_components=n_bins).fit(np.concatenate(codas).reshape(-1, 1))\n",
    "    discrete_codas = [gm.predict(coda.reshape(-1, 1)) for coda in codas]\n",
    "    with warnings.catch_warnings():\n",
    "        warnings.simplefilter(\"ignore\")\n",
    "        tree = vlmc.VLMC(n_bins + 1).fit(discrete_codas, K=K)\n",
    "    return tree, discrete_codas"
   ]
  },
  {
   "cell_type": "code",
   "execution_count": 98,
   "metadata": {},
   "outputs": [],
   "source": [
    "tree, discrete_codas = tree_gaussian_bins(paper_data,'nclicks',n_bins=5)"
   ]
  },
  {
   "cell_type": "code",
   "execution_count": 101,
   "metadata": {},
   "outputs": [
    {
     "data": {
      "text/plain": [
       "Text(0.5, 0, 'ICI')"
      ]
     },
     "execution_count": 101,
     "metadata": {},
     "output_type": "execute_result"
    },
    {
     "data": {
      "image/png": "[encoded data removed]",
      "text/plain": [
       "<Figure size 432x288 with 1 Axes>"
      ]
     },
     "metadata": {
      "needs_background": "light"
     },
     "output_type": "display_data"
    }
   ],
   "source": [
    "inds, counts = np.unique(np.concatenate(discrete_codas),return_counts=True)\n",
    "plt.bar(gm.means_.flatten(),counts0,width=np.log(gm.covariances_.flatten()/np.min(gm.covariances_.flatten())+1)/20)\n",
    "plt.xlabel('ICI')"
   ]
  },
  {
   "cell_type": "code",
   "execution_count": 55,
   "metadata": {},
   "outputs": [],
   "source": [
    "def gaussianClanTrees(clans,idcodas=True,n_bins=10):\n",
    "    \"\"\"\n",
    "    Get the subcoda tree for each pacific clan\n",
    "    \"\"\"\n",
    "    coda_condition = paper_data['coda_type'].isin(flatten(identity_codas.values()))\n",
    "    if not idcodas:\n",
    "        coda_condition = ~coda_condition\n",
    "    trees= []\n",
    "    for clan in clans:\n",
    "        clan_condition = paper_data['clan_name']==clan\n",
    "        condition = coda_condition & clan_condition\n",
    "        tree,_ = gaussianFitVlmc(paper_data[condition],click_col='nclicks',n_bins=n_bins)\n",
    "        trees.append(tree)\n",
    "    return trees\n",
    "\n",
    "def gaussianOverlapData(idcodas, n_bins=10):\n",
    "    \"\"\"\n",
    "    Calculating clan distance, making sure it has the same indexes\n",
    "    as clan ovelap\n",
    "    \"\"\"\n",
    "    overlap = pd.read_csv(\"Data/pacific_clan_overlap.csv\")\n",
    "    clanTrees = gaussianClanTrees(overlap.columns,idcodas=idcodas,n_bins=n_bins)\n",
    "    N = len(clanTrees)\n",
    "    D = np.empty(shape=(N,N))\n",
    "    for i in range(N):\n",
    "        for j in range(N):\n",
    "            D[i,j]=vlmc.distance(clanTrees[i],clanTrees[j])\n",
    "    notDiag=~np.eye(N,dtype=bool)\n",
    "    return overlap.values, D, notDiag #overlap.values[notDiag],D[notDiag]"
   ]
  },
  {
   "cell_type": "code",
   "execution_count": 111,
   "metadata": {},
   "outputs": [],
   "source": [
    "all_bins = np.arange(5,55,5)\n",
    "gaussianData = []\n",
    "for n_bins in all_bins:\n",
    "    row = {}\n",
    "    row['n_bins'] = n_bins\n",
    "    xx, yid, mask = gaussianOverlapData(idcodas=True,n_bins=n_bins)\n",
    "    slope, intercept, r, p, se = linregress(xx[mask], yid[mask])\n",
    "    row['id_slope'] = slope\n",
    "    row['id_p'] = p\n",
    "    xx, yNid, mask = gaussianOverlapData(idcodas=False, n_bins=n_bins)\n",
    "    slope, intercept, r, p, se = linregress(xx[mask], yNid[mask])\n",
    "    row['Nid_slope'] = slope\n",
    "    row['Nid_p'] = p\n",
    "    gaussianData.append(row)\n",
    "    \n",
    "gaussianData = pd.DataFrame(gaussianData)"
   ]
  },
  {
   "cell_type": "code",
   "execution_count": 102,
   "metadata": {},
   "outputs": [
    {
     "data": {
      "text/plain": [
       "<matplotlib.legend.Legend at 0x7f75fd09a910>"
      ]
     },
     "execution_count": 102,
     "metadata": {},
     "output_type": "execute_result"
    },
    {
     "data": {
      "image/png": "[encoded data removed]",
      "text/plain": [
       "<Figure size 360x187.2 with 1 Axes>"
      ]
     },
     "metadata": {
      "needs_background": "light"
     },
     "output_type": "display_data"
    }
   ],
   "source": [
    "fig, axs= plt.subplots(figsize=(5, 2.6))\n",
    "axs.plot(all_bins,gaussianData['Nid_slope'].values,label=\"Non-ID\")\n",
    "plt.plot(all_bins,gaussianData['id_slope'].values,label=\"ID\")\n",
    "axs.hlines(0,0.01,0.1,linestyle='--',color='k')\n",
    "axs.spines[['right', 'top']].set_visible(False)\n",
    "axs.hlines(0,0,50,linestyle='--',color='k')\n",
    "axs.set_xlabel(\"Alphabet Size\")\n",
    "axs.set_ylabel(\"Slope\")\n",
    "plt.legend()"
   ]
  },
  {
   "cell_type": "code",
   "execution_count": 103,
   "metadata": {},
   "outputs": [
    {
     "data": {
      "text/plain": [
       "<matplotlib.legend.Legend at 0x7f75dc040700>"
      ]
     },
     "execution_count": 103,
     "metadata": {},
     "output_type": "execute_result"
    },
    {
     "data": {
      "image/png": "[encoded data removed]",
      "text/plain": [
       "<Figure size 360x187.2 with 1 Axes>"
      ]
     },
     "metadata": {
      "needs_background": "light"
     },
     "output_type": "display_data"
    }
   ],
   "source": [
    "fig, axs= plt.subplots(figsize=(5, 2.6))\n",
    "axs.plot(all_bins,gaussianData['Nid_p'].values,label=\"Non-ID\")\n",
    "plt.plot(all_bins,gaussianData['id_p'].values,label=\"ID\")\n",
    "axs.hlines(0,0.01,0.1,linestyle='--',color='k')\n",
    "axs.spines[['right', 'top']].set_visible(False)\n",
    "axs.hlines(0.05,0,50,linestyle='--',color='k')\n",
    "axs.set_xlabel(\"Alphabet Size\")\n",
    "axs.set_ylabel(\"P-value\")\n",
    "plt.legend()"
   ]
  },
  {
   "cell_type": "markdown",
   "metadata": {},
   "source": [
    "### Noise robustness"
   ]
  },
  {
   "cell_type": "code",
   "execution_count": 126,
   "metadata": {},
   "outputs": [],
   "source": [
    "def noiseVlmc(df, click_col, horizon=1, resolution=0.02, K=None, scale=6):\n",
    "    ICIs = df.filter(regex=(\"^ICI\")).values\n",
    "    nClicks = df[click_col].values\n",
    "    codas = [coda[: stop - 1] for coda, stop in zip(ICIs, nClicks)]\n",
    "    #add le noise\n",
    "    codas = [coda + np.random.normal(loc = 0 , scale = resolution*scale, size=len(coda)) for coda in codas]\n",
    "    discrete_codas, n_bins = vlmc.bin_codas(\n",
    "        codas, horizon=horizon, resolution=resolution\n",
    "    )\n",
    "    with warnings.catch_warnings():\n",
    "        warnings.simplefilter(\"ignore\")\n",
    "        tree = vlmc.VLMC(n_bins + 1).fit(discrete_codas, K=K)\n",
    "    return tree, discrete_codas\n",
    "\n",
    "def noiseClanTrees(clans,idcodas=True,resolution=0.02,scale=6):\n",
    "    \"\"\"\n",
    "    Get the subcoda tree for each pacific clan\n",
    "    \"\"\"\n",
    "    coda_condition = paper_data['coda_type'].isin(flatten(identity_codas.values()))\n",
    "    if not idcodas:\n",
    "        coda_condition = ~coda_condition\n",
    "    trees= []\n",
    "    for clan in clans:\n",
    "        clan_condition = paper_data['clan_name']==clan\n",
    "        condition = coda_condition & clan_condition\n",
    "        tree,_ = noiseVlmc(paper_data[condition],click_col='nclicks',resolution=resolution,scale=scale)\n",
    "        trees.append(tree)\n",
    "    return trees\n",
    "\n",
    "def noiseOverlapData(idcodas, resolution=0.02,scale=6):\n",
    "    \"\"\"\n",
    "    Calculating clan distance, making sure it has the same indexes\n",
    "    as clan ovelap\n",
    "    \"\"\"\n",
    "    overlap = pd.read_csv(\"Data/pacific_clan_overlap.csv\")\n",
    "    clanTrees = noiseClanTrees(overlap.columns,idcodas=idcodas,resolution=resolution,scale=scale)\n",
    "    N = len(clanTrees)\n",
    "    D = np.empty(shape=(N,N))\n",
    "    for i in range(N):\n",
    "        for j in range(N):\n",
    "            D[i,j]=vlmc.distance(clanTrees[i],clanTrees[j])\n",
    "    notDiag=~np.eye(N,dtype=bool)\n",
    "    return overlap.values, D, notDiag #overlap.values[notDiag],D[notDiag]"
   ]
  },
  {
   "cell_type": "code",
   "execution_count": 134,
   "metadata": {},
   "outputs": [],
   "source": [
    "scales = np.linspace(0,1,11)\n",
    "noiseData = []\n",
    "for _ in range(10):\n",
    "    for scale in scales:\n",
    "        row = {}\n",
    "        row['scale'] = scale\n",
    "        xx, yid, mask = noiseOverlapData(idcodas=True,scale=scale)\n",
    "        slope, intercept, r, p, se = linregress(xx[mask], yid[mask])\n",
    "        row['id_slope'] = slope\n",
    "        row['id_p'] = p\n",
    "        xx, yNid, mask = noiseOverlapData(idcodas=False, scale=scale)\n",
    "        slope, intercept, r, p, se = linregress(xx[mask], yNid[mask])\n",
    "        row['Nid_slope'] = slope\n",
    "        row['Nid_p'] = p\n",
    "        noiseData.append(row)\n",
    "\n",
    "noiseData = pd.DataFrame(noiseData)"
   ]
  },
  {
   "cell_type": "code",
   "execution_count": 169,
   "metadata": {},
   "outputs": [
    {
     "data": {
      "text/plain": [
       "0.16666666666666666"
      ]
     },
     "execution_count": 169,
     "metadata": {},
     "output_type": "execute_result"
    }
   ],
   "source": [
    "1/6"
   ]
  },
  {
   "cell_type": "code",
   "execution_count": 183,
   "metadata": {},
   "outputs": [
    {
     "data": {
      "image/png": "[encoded data removed]",
      "text/plain": [
       "<Figure size 432x288 with 1 Axes>"
      ]
     },
     "metadata": {
      "needs_background": "light"
     },
     "output_type": "display_data"
    }
   ],
   "source": [
    "values,positions = [],[]\n",
    "for scale, frame in noiseData.groupby('scale'):\n",
    "    positions.append(scale)\n",
    "    values.append(frame['Nid_p'])\n",
    "\n",
    "plt.hlines(0.05,0,10,linestyle='--',color='k')\n",
    "plt.vlines(1.6,0,0.08,color='lightgray')\n",
    "plt.boxplot(values,positions = np.array(positions)*10)\n",
    "plt.xticks(np.array(positions)*10,np.round(scales,2))\n",
    "plt.xlabel(\"Noise Scale\")\n",
    "plt.ylabel(\"p_value\")\n",
    "plt.text(3,0.07,\"Noise $>\\delta t /2$\",fontsize=11,bbox=dict(boxstyle=\"round\",fc='white',ec='black'),ha='center')\n",
    "plt.show()`"
   ]
  },
  {
   "cell_type": "code",
   "execution_count": 184,
   "metadata": {},
   "outputs": [
    {
     "data": {
      "image/png": "[encoded data removed]",
      "text/plain": [
       "<Figure size 360x187.2 with 1 Axes>"
      ]
     },
     "metadata": {
      "needs_background": "light"
     },
     "output_type": "display_data"
    }
   ],
   "source": [
    "fig, axs= plt.subplots(figsize=(5, 2.6))\n",
    "axs.plot(scales,noiseData.groupby('scale').mean()['Nid_p'].values,label=\"Non-ID\")\n",
    "axs.plot(scales,noiseData.groupby('scale').mean()['id_p'].values,label=\"ID\")\n",
    "axs.spines[['right', 'top']].set_visible(False)\n",
    "axs.hlines(0.05,0,1,linestyle='--',color='k')\n",
    "axs.set_xlabel(\"Noise Scale\")\n",
    "axs.set_ylabel(\"P-value\")\n",
    "plt.title(\"Mean\")\n",
    "plt.legend()\n",
    "plt.show()"
   ]
  },
  {
   "cell_type": "code",
   "execution_count": 133,
   "metadata": {},
   "outputs": [
    {
     "data": {
      "text/plain": [
       "<matplotlib.legend.Legend at 0x7f75dc7e3fd0>"
      ]
     },
     "execution_count": 133,
     "metadata": {},
     "output_type": "execute_result"
    },
    {
     "data": {
      "image/png": "[encoded data removed]",
      "text/plain": [
       "<Figure size 360x187.2 with 1 Axes>"
      ]
     },
     "metadata": {
      "needs_background": "light"
     },
     "output_type": "display_data"
    }
   ],
   "source": [
    "fig, axs= plt.subplots(figsize=(5, 2.6))\n",
    "axs.plot(scales,noiseData['Nid_slope'].values,label=\"Non-ID\")\n",
    "plt.plot(scales,noiseData['id_slope'].values,label=\"ID\")\n",
    "axs.spines[['right', 'top']].set_visible(False)\n",
    "axs.hlines(0.05,0,1,linestyle='--',color='k')\n",
    "axs.set_xlabel(\"Noise Scale\")\n",
    "axs.set_ylabel(\"P-value\")\n",
    "plt.legend()"
   ]
  },
  {
   "cell_type": "code",
   "execution_count": null,
   "metadata": {},
   "outputs": [],
   "source": [
    "def AIC(tree,discrete_codas,null=False,no_params= False):\n",
    "    if null:\n",
    "        log_like = np.sum(np.log([np.product([tree.get_dist(0)[i] for i in sequence]) for sequence in discrete_codas]))\n",
    "        params = tree.n_params-1\n",
    "    else:\n",
    "        log_like = np.sum(np.log([tree.predict(coda) for coda in discrete_codas]))\n",
    "        params = len(tree.matrix)*(tree.n_params-1)\n",
    "        \n",
    "    if no_params:\n",
    "        return log_like\n",
    "    return 2*params-2*log_like"
   ]
  },
  {
   "cell_type": "code",
   "execution_count": null,
   "metadata": {},
   "outputs": [],
   "source": [
    "clan = \"REG\"\n",
    "aic_vals = []\n",
    "for dt in dts:\n",
    "    clan_condition = paper_data['clan_name']==clan\n",
    "    condition = coda_condition & clan_condition\n",
    "    tree,discrete_codas = fitVlmc(paper_data[condition],click_col='nclicks',resolution=resolution)\n",
    "    aic_res=AIC(tree,discrete_codas);aic_null=AIC(tree,discrete_codas,null=True);\n",
    "    aic_vals.append(np.subtract(aic_res,aic_null))"
   ]
  },
  {
   "cell_type": "markdown",
   "metadata": {},
   "source": [
    "# Dendogram similarity"
   ]
  },
  {
   "cell_type": "code",
   "execution_count": 60,
   "metadata": {},
   "outputs": [],
   "source": [
    "def dist_reps(resolution):\n",
    "    pacific_repertoires = []\n",
    "    for clan in identity_codas.keys():\n",
    "        for rep, frame in merge_repertoires(clan).groupby(\"repertoire_name\"):\n",
    "            if len(frame) < 25:\n",
    "                continue\n",
    "            tree, _ = fitVlmc(frame, click_col=\"nclicks\",resolution=resolution)\n",
    "            pacific_repertoires.append(\n",
    "                Rep(\n",
    "                    tree=tree,\n",
    "                    clan=clan,\n",
    "                    unit=rep,\n",
    "                )\n",
    "            )\n",
    "    pacific_distances = get_D([r.tree for r in pacific_repertoires])\n",
    "    return pacific_distances,pacific_repertoires"
   ]
  },
  {
   "cell_type": "code",
   "execution_count": 56,
   "metadata": {},
   "outputs": [],
   "source": [
    "from sklearn.metrics import adjusted_rand_score\n",
    "from scipy.cluster import hierarchy\n",
    "def score_at_height(V,height):\n",
    "    labels = hierarchy.cut_tree(V, height=height)\n",
    "    true_labels,pred_labels = [],[]\n",
    "    for rep,pred_lab in zip(pacific_repertoires,labels.flatten()):\n",
    "        true_labels.append(rep.clan)\n",
    "        pred_labels.append(pred_lab)\n",
    "    return adjusted_rand_score(true_labels,pred_labels)"
   ]
  },
  {
   "cell_type": "code",
   "execution_count": 73,
   "metadata": {},
   "outputs": [],
   "source": [
    "def similarity_scores(D,repertoires):\n",
    "    V, row_indexes = getV(np.maximum(D,D.T), [clan_color[r.clan] for r in repertoires])\n",
    "    heights =np.arange(0,np.max(V[:,2]))\n",
    "    scores = [score_at_height(V,height) for height in heights]\n",
    "    return scores"
   ]
  },
  {
   "cell_type": "code",
   "execution_count": 76,
   "metadata": {},
   "outputs": [
    {
     "name": "stderr",
     "output_type": "stream",
     "text": [
      "/home/leitao/anaconda3/lib/python3.8/site-packages/seaborn/matrix.py:629: ClusterWarning: scipy.cluster: The symmetric non-negative hollow observation matrix looks suspiciously like an uncondensed distance matrix\n",
      "  linkage = hierarchy.linkage(self.array, method=self.method,\n",
      "/home/leitao/anaconda3/lib/python3.8/site-packages/seaborn/matrix.py:629: ClusterWarning: scipy.cluster: The symmetric non-negative hollow observation matrix looks suspiciously like an uncondensed distance matrix\n",
      "  linkage = hierarchy.linkage(self.array, method=self.method,\n",
      "/home/leitao/anaconda3/lib/python3.8/site-packages/seaborn/matrix.py:629: ClusterWarning: scipy.cluster: The symmetric non-negative hollow observation matrix looks suspiciously like an uncondensed distance matrix\n",
      "  linkage = hierarchy.linkage(self.array, method=self.method,\n",
      "/home/leitao/anaconda3/lib/python3.8/site-packages/seaborn/matrix.py:629: ClusterWarning: scipy.cluster: The symmetric non-negative hollow observation matrix looks suspiciously like an uncondensed distance matrix\n",
      "  linkage = hierarchy.linkage(self.array, method=self.method,\n",
      "/home/leitao/anaconda3/lib/python3.8/site-packages/seaborn/matrix.py:629: ClusterWarning: scipy.cluster: The symmetric non-negative hollow observation matrix looks suspiciously like an uncondensed distance matrix\n",
      "  linkage = hierarchy.linkage(self.array, method=self.method,\n",
      "/home/leitao/anaconda3/lib/python3.8/site-packages/seaborn/matrix.py:629: ClusterWarning: scipy.cluster: The symmetric non-negative hollow observation matrix looks suspiciously like an uncondensed distance matrix\n",
      "  linkage = hierarchy.linkage(self.array, method=self.method,\n",
      "/home/leitao/anaconda3/lib/python3.8/site-packages/seaborn/matrix.py:629: ClusterWarning: scipy.cluster: The symmetric non-negative hollow observation matrix looks suspiciously like an uncondensed distance matrix\n",
      "  linkage = hierarchy.linkage(self.array, method=self.method,\n",
      "/home/leitao/anaconda3/lib/python3.8/site-packages/seaborn/matrix.py:629: ClusterWarning: scipy.cluster: The symmetric non-negative hollow observation matrix looks suspiciously like an uncondensed distance matrix\n",
      "  linkage = hierarchy.linkage(self.array, method=self.method,\n",
      "/home/leitao/anaconda3/lib/python3.8/site-packages/seaborn/matrix.py:629: ClusterWarning: scipy.cluster: The symmetric non-negative hollow observation matrix looks suspiciously like an uncondensed distance matrix\n",
      "  linkage = hierarchy.linkage(self.array, method=self.method,\n",
      "/home/leitao/anaconda3/lib/python3.8/site-packages/seaborn/matrix.py:629: ClusterWarning: scipy.cluster: The symmetric non-negative hollow observation matrix looks suspiciously like an uncondensed distance matrix\n",
      "  linkage = hierarchy.linkage(self.array, method=self.method,\n",
      "/home/leitao/anaconda3/lib/python3.8/site-packages/seaborn/matrix.py:629: ClusterWarning: scipy.cluster: The symmetric non-negative hollow observation matrix looks suspiciously like an uncondensed distance matrix\n",
      "  linkage = hierarchy.linkage(self.array, method=self.method,\n",
      "/home/leitao/anaconda3/lib/python3.8/site-packages/seaborn/matrix.py:629: ClusterWarning: scipy.cluster: The symmetric non-negative hollow observation matrix looks suspiciously like an uncondensed distance matrix\n",
      "  linkage = hierarchy.linkage(self.array, method=self.method,\n",
      "/home/leitao/anaconda3/lib/python3.8/site-packages/seaborn/matrix.py:629: ClusterWarning: scipy.cluster: The symmetric non-negative hollow observation matrix looks suspiciously like an uncondensed distance matrix\n",
      "  linkage = hierarchy.linkage(self.array, method=self.method,\n",
      "/home/leitao/anaconda3/lib/python3.8/site-packages/seaborn/matrix.py:629: ClusterWarning: scipy.cluster: The symmetric non-negative hollow observation matrix looks suspiciously like an uncondensed distance matrix\n",
      "  linkage = hierarchy.linkage(self.array, method=self.method,\n",
      "/home/leitao/anaconda3/lib/python3.8/site-packages/seaborn/matrix.py:629: ClusterWarning: scipy.cluster: The symmetric non-negative hollow observation matrix looks suspiciously like an uncondensed distance matrix\n",
      "  linkage = hierarchy.linkage(self.array, method=self.method,\n",
      "/home/leitao/anaconda3/lib/python3.8/site-packages/seaborn/matrix.py:629: ClusterWarning: scipy.cluster: The symmetric non-negative hollow observation matrix looks suspiciously like an uncondensed distance matrix\n",
      "  linkage = hierarchy.linkage(self.array, method=self.method,\n",
      "/home/leitao/anaconda3/lib/python3.8/site-packages/seaborn/matrix.py:629: ClusterWarning: scipy.cluster: The symmetric non-negative hollow observation matrix looks suspiciously like an uncondensed distance matrix\n",
      "  linkage = hierarchy.linkage(self.array, method=self.method,\n",
      "/home/leitao/anaconda3/lib/python3.8/site-packages/seaborn/matrix.py:629: ClusterWarning: scipy.cluster: The symmetric non-negative hollow observation matrix looks suspiciously like an uncondensed distance matrix\n",
      "  linkage = hierarchy.linkage(self.array, method=self.method,\n",
      "/home/leitao/anaconda3/lib/python3.8/site-packages/seaborn/matrix.py:629: ClusterWarning: scipy.cluster: The symmetric non-negative hollow observation matrix looks suspiciously like an uncondensed distance matrix\n",
      "  linkage = hierarchy.linkage(self.array, method=self.method,\n"
     ]
    }
   ],
   "source": [
    "dts = np.linspace(0.01,0.1,19)\n",
    "similarity = []\n",
    "for dt in dts:\n",
    "    pacific_distances,pacific_repertoires = dist_reps(dt)\n",
    "    scores = similarity_scores(pacific_distances,pacific_repertoires)\n",
    "    similarity.append(scores)"
   ]
  },
  {
   "cell_type": "code",
   "execution_count": 79,
   "metadata": {},
   "outputs": [
    {
     "data": {
      "text/plain": [
       "[<matplotlib.lines.Line2D at 0x7f2aad2f35b0>]"
      ]
     },
     "execution_count": 79,
     "metadata": {},
     "output_type": "execute_result"
    },
    {
     "data": {
      "image/png": "[encoded data removed]",
      "text/plain": [
       "<Figure size 432x288 with 1 Axes>"
      ]
     },
     "metadata": {
      "needs_background": "light"
     },
     "output_type": "display_data"
    }
   ],
   "source": [
    "plt.plot(dts,[np.max(score) for score in similarity])"
   ]
  },
  {
   "cell_type": "code",
   "execution_count": 75,
   "metadata": {},
   "outputs": [
    {
     "data": {
      "text/plain": [
       "[<matplotlib.lines.Line2D at 0x7f2a9b783790>]"
      ]
     },
     "execution_count": 75,
     "metadata": {},
     "output_type": "execute_result"
    },
    {
     "data": {
      "image/png": "[encoded data removed]",
      "text/plain": [
       "<Figure size 432x288 with 1 Axes>"
      ]
     },
     "metadata": {
      "needs_background": "light"
     },
     "output_type": "display_data"
    }
   ],
   "source": [
    "plt.plot(heights,scores)"
   ]
  },
  {
   "cell_type": "markdown",
   "metadata": {},
   "source": [
    "# coda type"
   ]
  },
  {
   "cell_type": "code",
   "execution_count": 148,
   "metadata": {},
   "outputs": [],
   "source": [
    "from typing import NamedTuple,Optional\n",
    "\n",
    "class Clan(NamedTuple):\n",
    "    name:str\n",
    "    tree:vlmc.VLMC\n",
    "\n",
    "class Overlap(NamedTuple):\n",
    "    clan_x : str \n",
    "    clan_y : str\n",
    "    vlmc_distance:float\n",
    "    overlap : float\n",
    "\n",
    "def writeOlsLabel(slope,r,p, sp=None, kp = None):\n",
    "    s1 = f\"slope :  {np.round(slope,4)}\\n\"\n",
    "    s2 = f\"r2 : {np.round(r,4)}\\n\"\n",
    "    s3 = f\"p : {np.round(p,4)}\"\n",
    "    if sr is None:\n",
    "        return s1 + s2 + s3\n",
    "    s4 = \"\\n---------\\n\"\n",
    "    s5 = f\"kendal p : {np.round(kp,4)}\\n\"\n",
    "    s6 = f\"sprmn p : {np.round(sp,4)}\"\n",
    "    return s1 + s2 + s3 + s4 + s5 +s6\n",
    "\n",
    "def draw_overlaps(overlaps:list, ax:plt.axis) -> None:\n",
    "    for overlap in overlaps:\n",
    "        marker_style = dict(color=clan_color[overlap.clan_x],\n",
    "                            marker=\"o\",\n",
    "                            linestyle=':',\n",
    "                            markersize=9,\n",
    "                            markerfacecoloralt=clan_color[overlap.clan_y],\n",
    "                            markeredgewidth=0)\n",
    "        ax.plot(overlap.overlap,overlap.vlmc_distance,fillstyle=\"left\", **marker_style)\n",
    "        \n",
    "        \n",
    "        \n",
    "def overlap_by_type(coda:str,id_clans=[]) -> list:\n",
    "    overlap = pd.read_csv(\"Data/pacific_clan_overlap.csv\")\n",
    "    clans = []\n",
    "    coda_condition = paper_data['coda_type']==coda\n",
    "    for clan in overlap.columns:\n",
    "        #skip if id clan\n",
    "        if clan in id_clans:\n",
    "            continue\n",
    "        clan_condition = paper_data['clan_name']==clan\n",
    "        condition = coda_condition & clan_condition\n",
    "        if len(paper_data[condition])<5:\n",
    "            continue\n",
    "        tree,_ = fitVlmc(paper_data[condition],click_col='nclicks')\n",
    "        clans.append(Clan(name=clan, tree =tree))\n",
    "    \n",
    "    overlaps = []\n",
    "    for clan1 in clans:\n",
    "        for clan2 in clans:\n",
    "            if clan1.name==clan2.name:\n",
    "                continue\n",
    "            vlmc_distance = vlmc.distance(clan1.tree, clan2.tree)\n",
    "            ix = overlap.columns.get_loc(clan1.name)\n",
    "            iy = overlap.columns.get_loc(clan2.name)\n",
    "            overlaps.append(Overlap(\n",
    "                clan_x = clan1.name,\n",
    "                clan_y = clan2.name,\n",
    "                vlmc_distance = vlmc_distance,\n",
    "                overlap = overlap.iloc[ix,iy],\n",
    "            ))\n",
    "    return overlaps"
   ]
  },
  {
   "cell_type": "code",
   "execution_count": 206,
   "metadata": {},
   "outputs": [],
   "source": [
    "stats = []\n",
    "for coda, frame in paper_data.groupby('coda_type'):\n",
    "    id_clans = [clan for clan in frame['clan_name'].unique() if coda in identity_codas[clan]]\n",
    "    overlaps = overlap_by_type(coda,id_clans)\n",
    "    if len(overlaps)<3:\n",
    "        continue\n",
    "    slope, intercept, r, p, se = linregress([o.overlap for o in overlaps], [o.vlmc_distance for o in overlaps])\n",
    "    sr, sp = spearmanr([o.overlap for o in overlaps], [o.vlmc_distance for o in overlaps])\n",
    "    stats.append(\n",
    "        {'coda_type':coda,'slope':slope,\n",
    "         'pearson_p':p,'spearman_p':sp,\n",
    "         'clans':np.unique([o.clan_x for o in overlaps]),\n",
    "        'n_clans':np.unique([o.clan_x for o in overlaps]).shape[0]}\n",
    "    )"
   ]
  },
  {
   "cell_type": "code",
   "execution_count": 185,
   "metadata": {},
   "outputs": [
    {
     "ename": "NameError",
     "evalue": "name 'stats' is not defined",
     "output_type": "error",
     "traceback": [
      "\u001b[0;31m---------------------------------------------------------------------------\u001b[0m",
      "\u001b[0;31mNameError\u001b[0m                                 Traceback (most recent call last)",
      "\u001b[0;32m<ipython-input-185-6f748999c64e>\u001b[0m in \u001b[0;36m<module>\u001b[0;34m\u001b[0m\n\u001b[0;32m----> 1\u001b[0;31m \u001b[0mdf\u001b[0m \u001b[0;34m=\u001b[0m \u001b[0mpd\u001b[0m\u001b[0;34m.\u001b[0m\u001b[0mDataFrame\u001b[0m\u001b[0;34m(\u001b[0m\u001b[0mstats\u001b[0m\u001b[0;34m)\u001b[0m\u001b[0;34m\u001b[0m\u001b[0;34m\u001b[0m\u001b[0m\n\u001b[0m\u001b[1;32m      2\u001b[0m \u001b[0;31m# Count the number of negative slopes\u001b[0m\u001b[0;34m\u001b[0m\u001b[0;34m\u001b[0m\u001b[0;34m\u001b[0m\u001b[0m\n\u001b[1;32m      3\u001b[0m \u001b[0mnegative_slopes\u001b[0m \u001b[0;34m=\u001b[0m \u001b[0mdf\u001b[0m\u001b[0;34m[\u001b[0m\u001b[0mdf\u001b[0m\u001b[0;34m[\u001b[0m\u001b[0;34m'slope'\u001b[0m\u001b[0;34m]\u001b[0m \u001b[0;34m<\u001b[0m \u001b[0;36m0\u001b[0m\u001b[0;34m]\u001b[0m\u001b[0;34m\u001b[0m\u001b[0;34m\u001b[0m\u001b[0m\n\u001b[1;32m      4\u001b[0m \u001b[0mnegative_count\u001b[0m \u001b[0;34m=\u001b[0m \u001b[0mnegative_slopes\u001b[0m\u001b[0;34m.\u001b[0m\u001b[0mshape\u001b[0m\u001b[0;34m[\u001b[0m\u001b[0;36m0\u001b[0m\u001b[0;34m]\u001b[0m\u001b[0;34m\u001b[0m\u001b[0;34m\u001b[0m\u001b[0m\n\u001b[1;32m      5\u001b[0m \u001b[0;34m\u001b[0m\u001b[0m\n",
      "\u001b[0;31mNameError\u001b[0m: name 'stats' is not defined"
     ]
    }
   ],
   "source": [
    "df = pd.DataFrame(stats)\n",
    "# Count the number of negative slopes\n",
    "negative_slopes = df[df['slope'] < 0]\n",
    "negative_count = negative_slopes.shape[0]\n",
    "\n",
    "# Count the number of negative slopes with p-value < 0.1\n",
    "p_value_threshold_1 = negative_slopes[negative_slopes['pearson_p'] < 0.1]\n",
    "p_value_1_count = p_value_threshold_1.shape[0]\n",
    "\n",
    "# Count the number of negative slopes with p-value < 0.05\n",
    "p_value_threshold_2 = negative_slopes[negative_slopes['pearson_p'] < 0.05]\n",
    "p_value_2_count = p_value_threshold_2.shape[0]\n",
    "\n",
    "# Total number of elements\n",
    "total_count = df.shape[0]\n",
    "\n",
    "# Creating the bar plot\n",
    "labels = ['Total','Negative Slope', 'p-value < 0.1', 'p-value < 0.05']\n",
    "counts = [total_count, negative_count, p_value_1_count, p_value_2_count]\n",
    "fig, axs= plt.subplots(figsize=(5, 1.7))\n",
    "\n",
    "\n",
    "barlist = axs.bar(labels, counts,color=\"#D0DBFB\",width=0.6,edgecolor='k',linewidth=1)\n",
    "barlist[1].set_color(clan_color[\"EC1\"])\n",
    "\n",
    "\n",
    "axs.set_ylabel('Coda Types')\n",
    "#axs.set_title('Goegraphical Overlap versus Subcoda Distance')\n",
    "axs.spines[['right', 'top']].set_visible(False)\n",
    "plt.savefig(\"Figures/supplementary_coda_type.pdf\", dpi=250, bbox_inches=\"tight\")\n",
    "plt.savefig(\"Figures/supplementary_coda_type.png\", dpi=250, bbox_inches=\"tight\")\n",
    "plt.show()"
   ]
  },
  {
   "cell_type": "code",
   "execution_count": 205,
   "metadata": {},
   "outputs": [
    {
     "data": {
      "text/html": [
       "<div>\n",
       "<style scoped>\n",
       "    .dataframe tbody tr th:only-of-type {\n",
       "        vertical-align: middle;\n",
       "    }\n",
       "\n",
       "    .dataframe tbody tr th {\n",
       "        vertical-align: top;\n",
       "    }\n",
       "\n",
       "    .dataframe thead th {\n",
       "        text-align: right;\n",
       "    }\n",
       "</style>\n",
       "<table border=\"1\" class=\"dataframe\">\n",
       "  <thead>\n",
       "    <tr style=\"text-align: right;\">\n",
       "      <th></th>\n",
       "      <th>coda_type</th>\n",
       "      <th>slope</th>\n",
       "      <th>pearson_p</th>\n",
       "      <th>spearman_p</th>\n",
       "      <th>n_clans</th>\n",
       "    </tr>\n",
       "  </thead>\n",
       "  <tbody>\n",
       "    <tr>\n",
       "      <th>0</th>\n",
       "      <td>33.0</td>\n",
       "      <td>-0.352894</td>\n",
       "      <td>0.864120</td>\n",
       "      <td>0.787172</td>\n",
       "      <td>3</td>\n",
       "    </tr>\n",
       "    <tr>\n",
       "      <th>1</th>\n",
       "      <td>34.0</td>\n",
       "      <td>-0.943527</td>\n",
       "      <td>0.257211</td>\n",
       "      <td>0.050266</td>\n",
       "      <td>4</td>\n",
       "    </tr>\n",
       "    <tr>\n",
       "      <th>2</th>\n",
       "      <td>35.0</td>\n",
       "      <td>-6.021979</td>\n",
       "      <td>0.031132</td>\n",
       "      <td>0.031659</td>\n",
       "      <td>5</td>\n",
       "    </tr>\n",
       "    <tr>\n",
       "      <th>3</th>\n",
       "      <td>42.0</td>\n",
       "      <td>-4.098461</td>\n",
       "      <td>0.004497</td>\n",
       "      <td>0.010047</td>\n",
       "      <td>7</td>\n",
       "    </tr>\n",
       "    <tr>\n",
       "      <th>4</th>\n",
       "      <td>43.0</td>\n",
       "      <td>-0.615171</td>\n",
       "      <td>0.595790</td>\n",
       "      <td>0.572863</td>\n",
       "      <td>4</td>\n",
       "    </tr>\n",
       "    <tr>\n",
       "      <th>5</th>\n",
       "      <td>45.0</td>\n",
       "      <td>-1.326652</td>\n",
       "      <td>0.266219</td>\n",
       "      <td>0.207232</td>\n",
       "      <td>5</td>\n",
       "    </tr>\n",
       "    <tr>\n",
       "      <th>6</th>\n",
       "      <td>47.0</td>\n",
       "      <td>-5.807828</td>\n",
       "      <td>0.628062</td>\n",
       "      <td>0.699798</td>\n",
       "      <td>3</td>\n",
       "    </tr>\n",
       "    <tr>\n",
       "      <th>7</th>\n",
       "      <td>48.0</td>\n",
       "      <td>9.818289</td>\n",
       "      <td>0.257520</td>\n",
       "      <td>0.257369</td>\n",
       "      <td>3</td>\n",
       "    </tr>\n",
       "    <tr>\n",
       "      <th>8</th>\n",
       "      <td>49.0</td>\n",
       "      <td>10.481454</td>\n",
       "      <td>0.371373</td>\n",
       "      <td>0.537901</td>\n",
       "      <td>3</td>\n",
       "    </tr>\n",
       "    <tr>\n",
       "      <th>9</th>\n",
       "      <td>51.0</td>\n",
       "      <td>-0.938869</td>\n",
       "      <td>0.634211</td>\n",
       "      <td>0.695484</td>\n",
       "      <td>6</td>\n",
       "    </tr>\n",
       "    <tr>\n",
       "      <th>10</th>\n",
       "      <td>52.0</td>\n",
       "      <td>-1.663182</td>\n",
       "      <td>0.001626</td>\n",
       "      <td>0.020549</td>\n",
       "      <td>7</td>\n",
       "    </tr>\n",
       "    <tr>\n",
       "      <th>11</th>\n",
       "      <td>53.0</td>\n",
       "      <td>-3.340574</td>\n",
       "      <td>0.016961</td>\n",
       "      <td>0.075043</td>\n",
       "      <td>6</td>\n",
       "    </tr>\n",
       "    <tr>\n",
       "      <th>12</th>\n",
       "      <td>55.0</td>\n",
       "      <td>0.521659</td>\n",
       "      <td>0.909364</td>\n",
       "      <td>0.751734</td>\n",
       "      <td>4</td>\n",
       "    </tr>\n",
       "    <tr>\n",
       "      <th>13</th>\n",
       "      <td>57.0</td>\n",
       "      <td>-3.480379</td>\n",
       "      <td>0.409952</td>\n",
       "      <td>0.511326</td>\n",
       "      <td>4</td>\n",
       "    </tr>\n",
       "    <tr>\n",
       "      <th>14</th>\n",
       "      <td>58.0</td>\n",
       "      <td>-0.895913</td>\n",
       "      <td>0.755474</td>\n",
       "      <td>0.622787</td>\n",
       "      <td>3</td>\n",
       "    </tr>\n",
       "    <tr>\n",
       "      <th>15</th>\n",
       "      <td>61.0</td>\n",
       "      <td>-1.511600</td>\n",
       "      <td>0.073596</td>\n",
       "      <td>0.006041</td>\n",
       "      <td>7</td>\n",
       "    </tr>\n",
       "    <tr>\n",
       "      <th>16</th>\n",
       "      <td>64.0</td>\n",
       "      <td>-1.650916</td>\n",
       "      <td>0.061437</td>\n",
       "      <td>0.275916</td>\n",
       "      <td>5</td>\n",
       "    </tr>\n",
       "    <tr>\n",
       "      <th>17</th>\n",
       "      <td>66.0</td>\n",
       "      <td>-2.481641</td>\n",
       "      <td>0.138299</td>\n",
       "      <td>0.061989</td>\n",
       "      <td>7</td>\n",
       "    </tr>\n",
       "    <tr>\n",
       "      <th>18</th>\n",
       "      <td>67.0</td>\n",
       "      <td>-2.782343</td>\n",
       "      <td>0.172228</td>\n",
       "      <td>0.269078</td>\n",
       "      <td>6</td>\n",
       "    </tr>\n",
       "    <tr>\n",
       "      <th>19</th>\n",
       "      <td>71.0</td>\n",
       "      <td>-1.994135</td>\n",
       "      <td>0.870404</td>\n",
       "      <td>0.517700</td>\n",
       "      <td>3</td>\n",
       "    </tr>\n",
       "    <tr>\n",
       "      <th>20</th>\n",
       "      <td>72.0</td>\n",
       "      <td>-0.041178</td>\n",
       "      <td>0.978763</td>\n",
       "      <td>0.855976</td>\n",
       "      <td>7</td>\n",
       "    </tr>\n",
       "    <tr>\n",
       "      <th>21</th>\n",
       "      <td>73.0</td>\n",
       "      <td>-1.333916</td>\n",
       "      <td>0.337092</td>\n",
       "      <td>0.328723</td>\n",
       "      <td>3</td>\n",
       "    </tr>\n",
       "    <tr>\n",
       "      <th>22</th>\n",
       "      <td>76.0</td>\n",
       "      <td>-0.981046</td>\n",
       "      <td>0.680798</td>\n",
       "      <td>0.829089</td>\n",
       "      <td>7</td>\n",
       "    </tr>\n",
       "    <tr>\n",
       "      <th>23</th>\n",
       "      <td>77.0</td>\n",
       "      <td>-4.092784</td>\n",
       "      <td>0.140954</td>\n",
       "      <td>0.093329</td>\n",
       "      <td>5</td>\n",
       "    </tr>\n",
       "    <tr>\n",
       "      <th>24</th>\n",
       "      <td>79.0</td>\n",
       "      <td>-1.116161</td>\n",
       "      <td>0.268044</td>\n",
       "      <td>0.141975</td>\n",
       "      <td>5</td>\n",
       "    </tr>\n",
       "    <tr>\n",
       "      <th>25</th>\n",
       "      <td>82.0</td>\n",
       "      <td>-0.846738</td>\n",
       "      <td>0.265018</td>\n",
       "      <td>0.265703</td>\n",
       "      <td>3</td>\n",
       "    </tr>\n",
       "    <tr>\n",
       "      <th>26</th>\n",
       "      <td>83.0</td>\n",
       "      <td>0.908288</td>\n",
       "      <td>0.578381</td>\n",
       "      <td>0.284081</td>\n",
       "      <td>6</td>\n",
       "    </tr>\n",
       "    <tr>\n",
       "      <th>27</th>\n",
       "      <td>85.0</td>\n",
       "      <td>-1.473469</td>\n",
       "      <td>0.043617</td>\n",
       "      <td>0.032383</td>\n",
       "      <td>4</td>\n",
       "    </tr>\n",
       "    <tr>\n",
       "      <th>28</th>\n",
       "      <td>86.0</td>\n",
       "      <td>-0.089340</td>\n",
       "      <td>0.844808</td>\n",
       "      <td>0.600355</td>\n",
       "      <td>3</td>\n",
       "    </tr>\n",
       "    <tr>\n",
       "      <th>29</th>\n",
       "      <td>88.0</td>\n",
       "      <td>2.831301</td>\n",
       "      <td>0.000362</td>\n",
       "      <td>0.000060</td>\n",
       "      <td>7</td>\n",
       "    </tr>\n",
       "    <tr>\n",
       "      <th>30</th>\n",
       "      <td>91.0</td>\n",
       "      <td>-2.661846</td>\n",
       "      <td>0.254204</td>\n",
       "      <td>0.387047</td>\n",
       "      <td>6</td>\n",
       "    </tr>\n",
       "    <tr>\n",
       "      <th>31</th>\n",
       "      <td>93.0</td>\n",
       "      <td>0.612940</td>\n",
       "      <td>0.596924</td>\n",
       "      <td>0.618299</td>\n",
       "      <td>6</td>\n",
       "    </tr>\n",
       "    <tr>\n",
       "      <th>32</th>\n",
       "      <td>310.0</td>\n",
       "      <td>-4.118407</td>\n",
       "      <td>0.320214</td>\n",
       "      <td>0.193344</td>\n",
       "      <td>4</td>\n",
       "    </tr>\n",
       "    <tr>\n",
       "      <th>33</th>\n",
       "      <td>311.0</td>\n",
       "      <td>-1.554365</td>\n",
       "      <td>0.169897</td>\n",
       "      <td>0.016445</td>\n",
       "      <td>6</td>\n",
       "    </tr>\n",
       "    <tr>\n",
       "      <th>34</th>\n",
       "      <td>312.0</td>\n",
       "      <td>-1.275288</td>\n",
       "      <td>0.325172</td>\n",
       "      <td>0.069005</td>\n",
       "      <td>6</td>\n",
       "    </tr>\n",
       "    <tr>\n",
       "      <th>35</th>\n",
       "      <td>313.0</td>\n",
       "      <td>-3.086612</td>\n",
       "      <td>0.475091</td>\n",
       "      <td>0.185824</td>\n",
       "      <td>4</td>\n",
       "    </tr>\n",
       "    <tr>\n",
       "      <th>36</th>\n",
       "      <td>315.0</td>\n",
       "      <td>-1.188770</td>\n",
       "      <td>0.593327</td>\n",
       "      <td>0.699798</td>\n",
       "      <td>3</td>\n",
       "    </tr>\n",
       "    <tr>\n",
       "      <th>37</th>\n",
       "      <td>411.0</td>\n",
       "      <td>0.488702</td>\n",
       "      <td>0.710624</td>\n",
       "      <td>0.794709</td>\n",
       "      <td>4</td>\n",
       "    </tr>\n",
       "    <tr>\n",
       "      <th>38</th>\n",
       "      <td>412.0</td>\n",
       "      <td>-2.092013</td>\n",
       "      <td>0.577892</td>\n",
       "      <td>0.699798</td>\n",
       "      <td>3</td>\n",
       "    </tr>\n",
       "    <tr>\n",
       "      <th>39</th>\n",
       "      <td>414.0</td>\n",
       "      <td>-2.269178</td>\n",
       "      <td>0.012259</td>\n",
       "      <td>0.006376</td>\n",
       "      <td>7</td>\n",
       "    </tr>\n",
       "    <tr>\n",
       "      <th>40</th>\n",
       "      <td>511.0</td>\n",
       "      <td>-3.246100</td>\n",
       "      <td>0.037899</td>\n",
       "      <td>0.059059</td>\n",
       "      <td>7</td>\n",
       "    </tr>\n",
       "    <tr>\n",
       "      <th>41</th>\n",
       "      <td>513.0</td>\n",
       "      <td>-1.806329</td>\n",
       "      <td>0.173781</td>\n",
       "      <td>0.107386</td>\n",
       "      <td>7</td>\n",
       "    </tr>\n",
       "    <tr>\n",
       "      <th>42</th>\n",
       "      <td>514.0</td>\n",
       "      <td>-0.449052</td>\n",
       "      <td>0.869478</td>\n",
       "      <td>1.000000</td>\n",
       "      <td>4</td>\n",
       "    </tr>\n",
       "    <tr>\n",
       "      <th>43</th>\n",
       "      <td>610.0</td>\n",
       "      <td>-1.794413</td>\n",
       "      <td>0.144618</td>\n",
       "      <td>0.122993</td>\n",
       "      <td>7</td>\n",
       "    </tr>\n",
       "    <tr>\n",
       "      <th>44</th>\n",
       "      <td>612.0</td>\n",
       "      <td>5.632632</td>\n",
       "      <td>0.486070</td>\n",
       "      <td>0.617534</td>\n",
       "      <td>3</td>\n",
       "    </tr>\n",
       "    <tr>\n",
       "      <th>45</th>\n",
       "      <td>613.0</td>\n",
       "      <td>-0.426260</td>\n",
       "      <td>0.906716</td>\n",
       "      <td>0.396501</td>\n",
       "      <td>3</td>\n",
       "    </tr>\n",
       "    <tr>\n",
       "      <th>46</th>\n",
       "      <td>1011.0</td>\n",
       "      <td>-1.081244</td>\n",
       "      <td>0.539268</td>\n",
       "      <td>0.659939</td>\n",
       "      <td>5</td>\n",
       "    </tr>\n",
       "    <tr>\n",
       "      <th>47</th>\n",
       "      <td>1012.0</td>\n",
       "      <td>-0.965691</td>\n",
       "      <td>0.696420</td>\n",
       "      <td>0.342397</td>\n",
       "      <td>4</td>\n",
       "    </tr>\n",
       "  </tbody>\n",
       "</table>\n",
       "</div>"
      ],
      "text/plain": [
       "    coda_type      slope  pearson_p  spearman_p  n_clans\n",
       "0        33.0  -0.352894   0.864120    0.787172        3\n",
       "1        34.0  -0.943527   0.257211    0.050266        4\n",
       "2        35.0  -6.021979   0.031132    0.031659        5\n",
       "3        42.0  -4.098461   0.004497    0.010047        7\n",
       "4        43.0  -0.615171   0.595790    0.572863        4\n",
       "5        45.0  -1.326652   0.266219    0.207232        5\n",
       "6        47.0  -5.807828   0.628062    0.699798        3\n",
       "7        48.0   9.818289   0.257520    0.257369        3\n",
       "8        49.0  10.481454   0.371373    0.537901        3\n",
       "9        51.0  -0.938869   0.634211    0.695484        6\n",
       "10       52.0  -1.663182   0.001626    0.020549        7\n",
       "11       53.0  -3.340574   0.016961    0.075043        6\n",
       "12       55.0   0.521659   0.909364    0.751734        4\n",
       "13       57.0  -3.480379   0.409952    0.511326        4\n",
       "14       58.0  -0.895913   0.755474    0.622787        3\n",
       "15       61.0  -1.511600   0.073596    0.006041        7\n",
       "16       64.0  -1.650916   0.061437    0.275916        5\n",
       "17       66.0  -2.481641   0.138299    0.061989        7\n",
       "18       67.0  -2.782343   0.172228    0.269078        6\n",
       "19       71.0  -1.994135   0.870404    0.517700        3\n",
       "20       72.0  -0.041178   0.978763    0.855976        7\n",
       "21       73.0  -1.333916   0.337092    0.328723        3\n",
       "22       76.0  -0.981046   0.680798    0.829089        7\n",
       "23       77.0  -4.092784   0.140954    0.093329        5\n",
       "24       79.0  -1.116161   0.268044    0.141975        5\n",
       "25       82.0  -0.846738   0.265018    0.265703        3\n",
       "26       83.0   0.908288   0.578381    0.284081        6\n",
       "27       85.0  -1.473469   0.043617    0.032383        4\n",
       "28       86.0  -0.089340   0.844808    0.600355        3\n",
       "29       88.0   2.831301   0.000362    0.000060        7\n",
       "30       91.0  -2.661846   0.254204    0.387047        6\n",
       "31       93.0   0.612940   0.596924    0.618299        6\n",
       "32      310.0  -4.118407   0.320214    0.193344        4\n",
       "33      311.0  -1.554365   0.169897    0.016445        6\n",
       "34      312.0  -1.275288   0.325172    0.069005        6\n",
       "35      313.0  -3.086612   0.475091    0.185824        4\n",
       "36      315.0  -1.188770   0.593327    0.699798        3\n",
       "37      411.0   0.488702   0.710624    0.794709        4\n",
       "38      412.0  -2.092013   0.577892    0.699798        3\n",
       "39      414.0  -2.269178   0.012259    0.006376        7\n",
       "40      511.0  -3.246100   0.037899    0.059059        7\n",
       "41      513.0  -1.806329   0.173781    0.107386        7\n",
       "42      514.0  -0.449052   0.869478    1.000000        4\n",
       "43      610.0  -1.794413   0.144618    0.122993        7\n",
       "44      612.0   5.632632   0.486070    0.617534        3\n",
       "45      613.0  -0.426260   0.906716    0.396501        3\n",
       "46     1011.0  -1.081244   0.539268    0.659939        5\n",
       "47     1012.0  -0.965691   0.696420    0.342397        4"
      ]
     },
     "execution_count": 205,
     "metadata": {},
     "output_type": "execute_result"
    }
   ],
   "source": [
    "df[['coda_type','slope','pearson_p','spearman_p','n_clans']]"
   ]
  },
  {
   "cell_type": "code",
   "execution_count": null,
   "metadata": {},
   "outputs": [],
   "source": []
  }
 ],
 "metadata": {
  "kernelspec": {
   "display_name": "Python 3",
   "language": "python",
   "name": "python3"
  },
  "language_info": {
   "codemirror_mode": {
    "name": "ipython",
    "version": 3
   },
   "file_extension": ".py",
   "mimetype": "text/x-python",
   "name": "python",
   "nbconvert_exporter": "python",
   "pygments_lexer": "ipython3",
   "version": "3.8.5"
  }
 },
 "nbformat": 4,
 "nbformat_minor": 4
}
